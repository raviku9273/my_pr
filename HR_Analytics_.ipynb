{
  "nbformat": 4,
  "nbformat_minor": 0,
  "metadata": {
    "colab": {
      "name": "HR Analytics .ipynb",
      "provenance": [],
      "collapsed_sections": [],
      "include_colab_link": true
    },
    "kernelspec": {
      "name": "python3",
      "display_name": "Python 3"
    },
    "language_info": {
      "name": "python"
    }
  },
  "cells": [
    {
      "cell_type": "markdown",
      "metadata": {
        "id": "view-in-github",
        "colab_type": "text"
      },
      "source": [
        "<a href=\"https://colab.research.google.com/github/raviku9273/my_pr/blob/master/HR_Analytics_.ipynb\" target=\"_parent\"><img src=\"https://colab.research.google.com/assets/colab-badge.svg\" alt=\"Open In Colab\"/></a>"
      ]
    },
    {
      "cell_type": "code",
      "execution_count": 1,
      "metadata": {
        "id": "G93A0xH4z0_h",
        "colab": {
          "base_uri": "https://localhost:8080/",
          "height": 548
        },
        "outputId": "58cb7932-3c3c-42a2-ad5b-3a5c2c1765e2"
      },
      "outputs": [
        {
          "output_type": "execute_result",
          "data": {
            "text/plain": [
              "       enrollee_id      city  city_development_index  gender  \\\n",
              "19148         9212   city_21                   0.624     NaN   \n",
              "19149          251  city_103                   0.920    Male   \n",
              "19150        32313  city_160                   0.920  Female   \n",
              "19151        11385  city_149                   0.689    Male   \n",
              "19152        29754  city_103                   0.920  Female   \n",
              "19153         7386  city_173                   0.878    Male   \n",
              "19154        31398  city_103                   0.920    Male   \n",
              "19155        24576  city_103                   0.920    Male   \n",
              "19156         5756   city_65                   0.802    Male   \n",
              "19157        23834   city_67                   0.855     NaN   \n",
              "\n",
              "           relevent_experience enrolled_university education_level  \\\n",
              "19148  Has relevent experience       no_enrollment         Masters   \n",
              "19149  Has relevent experience       no_enrollment         Masters   \n",
              "19150  Has relevent experience       no_enrollment        Graduate   \n",
              "19151   No relevent experience    Full time course        Graduate   \n",
              "19152  Has relevent experience       no_enrollment        Graduate   \n",
              "19153   No relevent experience       no_enrollment        Graduate   \n",
              "19154  Has relevent experience       no_enrollment        Graduate   \n",
              "19155  Has relevent experience       no_enrollment        Graduate   \n",
              "19156  Has relevent experience       no_enrollment     High School   \n",
              "19157   No relevent experience       no_enrollment  Primary School   \n",
              "\n",
              "      major_discipline experience company_size    company_type last_new_job  \\\n",
              "19148             STEM          3      100-500         Pvt Ltd            3   \n",
              "19149             STEM          9        50-99         Pvt Ltd            1   \n",
              "19150             STEM         10      100-500   Public Sector            3   \n",
              "19151              NaN          2          NaN             NaN            1   \n",
              "19152       Humanities          7        10/49  Funded Startup            1   \n",
              "19153       Humanities         14          NaN             NaN            1   \n",
              "19154             STEM         14          NaN             NaN            4   \n",
              "19155             STEM        >20        50-99         Pvt Ltd            4   \n",
              "19156              NaN         <1      500-999         Pvt Ltd            2   \n",
              "19157              NaN          2          NaN             NaN            1   \n",
              "\n",
              "       training_hours  target  \n",
              "19148              40     1.0  \n",
              "19149              36     1.0  \n",
              "19150              23     0.0  \n",
              "19151              60     0.0  \n",
              "19152              25     0.0  \n",
              "19153              42     1.0  \n",
              "19154              52     1.0  \n",
              "19155              44     0.0  \n",
              "19156              97     0.0  \n",
              "19157             127     0.0  "
            ],
            "text/html": [
              "\n",
              "  <div id=\"df-3ca519e7-2163-427d-9da6-06ab6cc901f0\">\n",
              "    <div class=\"colab-df-container\">\n",
              "      <div>\n",
              "<style scoped>\n",
              "    .dataframe tbody tr th:only-of-type {\n",
              "        vertical-align: middle;\n",
              "    }\n",
              "\n",
              "    .dataframe tbody tr th {\n",
              "        vertical-align: top;\n",
              "    }\n",
              "\n",
              "    .dataframe thead th {\n",
              "        text-align: right;\n",
              "    }\n",
              "</style>\n",
              "<table border=\"1\" class=\"dataframe\">\n",
              "  <thead>\n",
              "    <tr style=\"text-align: right;\">\n",
              "      <th></th>\n",
              "      <th>enrollee_id</th>\n",
              "      <th>city</th>\n",
              "      <th>city_development_index</th>\n",
              "      <th>gender</th>\n",
              "      <th>relevent_experience</th>\n",
              "      <th>enrolled_university</th>\n",
              "      <th>education_level</th>\n",
              "      <th>major_discipline</th>\n",
              "      <th>experience</th>\n",
              "      <th>company_size</th>\n",
              "      <th>company_type</th>\n",
              "      <th>last_new_job</th>\n",
              "      <th>training_hours</th>\n",
              "      <th>target</th>\n",
              "    </tr>\n",
              "  </thead>\n",
              "  <tbody>\n",
              "    <tr>\n",
              "      <th>19148</th>\n",
              "      <td>9212</td>\n",
              "      <td>city_21</td>\n",
              "      <td>0.624</td>\n",
              "      <td>NaN</td>\n",
              "      <td>Has relevent experience</td>\n",
              "      <td>no_enrollment</td>\n",
              "      <td>Masters</td>\n",
              "      <td>STEM</td>\n",
              "      <td>3</td>\n",
              "      <td>100-500</td>\n",
              "      <td>Pvt Ltd</td>\n",
              "      <td>3</td>\n",
              "      <td>40</td>\n",
              "      <td>1.0</td>\n",
              "    </tr>\n",
              "    <tr>\n",
              "      <th>19149</th>\n",
              "      <td>251</td>\n",
              "      <td>city_103</td>\n",
              "      <td>0.920</td>\n",
              "      <td>Male</td>\n",
              "      <td>Has relevent experience</td>\n",
              "      <td>no_enrollment</td>\n",
              "      <td>Masters</td>\n",
              "      <td>STEM</td>\n",
              "      <td>9</td>\n",
              "      <td>50-99</td>\n",
              "      <td>Pvt Ltd</td>\n",
              "      <td>1</td>\n",
              "      <td>36</td>\n",
              "      <td>1.0</td>\n",
              "    </tr>\n",
              "    <tr>\n",
              "      <th>19150</th>\n",
              "      <td>32313</td>\n",
              "      <td>city_160</td>\n",
              "      <td>0.920</td>\n",
              "      <td>Female</td>\n",
              "      <td>Has relevent experience</td>\n",
              "      <td>no_enrollment</td>\n",
              "      <td>Graduate</td>\n",
              "      <td>STEM</td>\n",
              "      <td>10</td>\n",
              "      <td>100-500</td>\n",
              "      <td>Public Sector</td>\n",
              "      <td>3</td>\n",
              "      <td>23</td>\n",
              "      <td>0.0</td>\n",
              "    </tr>\n",
              "    <tr>\n",
              "      <th>19151</th>\n",
              "      <td>11385</td>\n",
              "      <td>city_149</td>\n",
              "      <td>0.689</td>\n",
              "      <td>Male</td>\n",
              "      <td>No relevent experience</td>\n",
              "      <td>Full time course</td>\n",
              "      <td>Graduate</td>\n",
              "      <td>NaN</td>\n",
              "      <td>2</td>\n",
              "      <td>NaN</td>\n",
              "      <td>NaN</td>\n",
              "      <td>1</td>\n",
              "      <td>60</td>\n",
              "      <td>0.0</td>\n",
              "    </tr>\n",
              "    <tr>\n",
              "      <th>19152</th>\n",
              "      <td>29754</td>\n",
              "      <td>city_103</td>\n",
              "      <td>0.920</td>\n",
              "      <td>Female</td>\n",
              "      <td>Has relevent experience</td>\n",
              "      <td>no_enrollment</td>\n",
              "      <td>Graduate</td>\n",
              "      <td>Humanities</td>\n",
              "      <td>7</td>\n",
              "      <td>10/49</td>\n",
              "      <td>Funded Startup</td>\n",
              "      <td>1</td>\n",
              "      <td>25</td>\n",
              "      <td>0.0</td>\n",
              "    </tr>\n",
              "    <tr>\n",
              "      <th>19153</th>\n",
              "      <td>7386</td>\n",
              "      <td>city_173</td>\n",
              "      <td>0.878</td>\n",
              "      <td>Male</td>\n",
              "      <td>No relevent experience</td>\n",
              "      <td>no_enrollment</td>\n",
              "      <td>Graduate</td>\n",
              "      <td>Humanities</td>\n",
              "      <td>14</td>\n",
              "      <td>NaN</td>\n",
              "      <td>NaN</td>\n",
              "      <td>1</td>\n",
              "      <td>42</td>\n",
              "      <td>1.0</td>\n",
              "    </tr>\n",
              "    <tr>\n",
              "      <th>19154</th>\n",
              "      <td>31398</td>\n",
              "      <td>city_103</td>\n",
              "      <td>0.920</td>\n",
              "      <td>Male</td>\n",
              "      <td>Has relevent experience</td>\n",
              "      <td>no_enrollment</td>\n",
              "      <td>Graduate</td>\n",
              "      <td>STEM</td>\n",
              "      <td>14</td>\n",
              "      <td>NaN</td>\n",
              "      <td>NaN</td>\n",
              "      <td>4</td>\n",
              "      <td>52</td>\n",
              "      <td>1.0</td>\n",
              "    </tr>\n",
              "    <tr>\n",
              "      <th>19155</th>\n",
              "      <td>24576</td>\n",
              "      <td>city_103</td>\n",
              "      <td>0.920</td>\n",
              "      <td>Male</td>\n",
              "      <td>Has relevent experience</td>\n",
              "      <td>no_enrollment</td>\n",
              "      <td>Graduate</td>\n",
              "      <td>STEM</td>\n",
              "      <td>&gt;20</td>\n",
              "      <td>50-99</td>\n",
              "      <td>Pvt Ltd</td>\n",
              "      <td>4</td>\n",
              "      <td>44</td>\n",
              "      <td>0.0</td>\n",
              "    </tr>\n",
              "    <tr>\n",
              "      <th>19156</th>\n",
              "      <td>5756</td>\n",
              "      <td>city_65</td>\n",
              "      <td>0.802</td>\n",
              "      <td>Male</td>\n",
              "      <td>Has relevent experience</td>\n",
              "      <td>no_enrollment</td>\n",
              "      <td>High School</td>\n",
              "      <td>NaN</td>\n",
              "      <td>&lt;1</td>\n",
              "      <td>500-999</td>\n",
              "      <td>Pvt Ltd</td>\n",
              "      <td>2</td>\n",
              "      <td>97</td>\n",
              "      <td>0.0</td>\n",
              "    </tr>\n",
              "    <tr>\n",
              "      <th>19157</th>\n",
              "      <td>23834</td>\n",
              "      <td>city_67</td>\n",
              "      <td>0.855</td>\n",
              "      <td>NaN</td>\n",
              "      <td>No relevent experience</td>\n",
              "      <td>no_enrollment</td>\n",
              "      <td>Primary School</td>\n",
              "      <td>NaN</td>\n",
              "      <td>2</td>\n",
              "      <td>NaN</td>\n",
              "      <td>NaN</td>\n",
              "      <td>1</td>\n",
              "      <td>127</td>\n",
              "      <td>0.0</td>\n",
              "    </tr>\n",
              "  </tbody>\n",
              "</table>\n",
              "</div>\n",
              "      <button class=\"colab-df-convert\" onclick=\"convertToInteractive('df-3ca519e7-2163-427d-9da6-06ab6cc901f0')\"\n",
              "              title=\"Convert this dataframe to an interactive table.\"\n",
              "              style=\"display:none;\">\n",
              "        \n",
              "  <svg xmlns=\"http://www.w3.org/2000/svg\" height=\"24px\"viewBox=\"0 0 24 24\"\n",
              "       width=\"24px\">\n",
              "    <path d=\"M0 0h24v24H0V0z\" fill=\"none\"/>\n",
              "    <path d=\"M18.56 5.44l.94 2.06.94-2.06 2.06-.94-2.06-.94-.94-2.06-.94 2.06-2.06.94zm-11 1L8.5 8.5l.94-2.06 2.06-.94-2.06-.94L8.5 2.5l-.94 2.06-2.06.94zm10 10l.94 2.06.94-2.06 2.06-.94-2.06-.94-.94-2.06-.94 2.06-2.06.94z\"/><path d=\"M17.41 7.96l-1.37-1.37c-.4-.4-.92-.59-1.43-.59-.52 0-1.04.2-1.43.59L10.3 9.45l-7.72 7.72c-.78.78-.78 2.05 0 2.83L4 21.41c.39.39.9.59 1.41.59.51 0 1.02-.2 1.41-.59l7.78-7.78 2.81-2.81c.8-.78.8-2.07 0-2.86zM5.41 20L4 18.59l7.72-7.72 1.47 1.35L5.41 20z\"/>\n",
              "  </svg>\n",
              "      </button>\n",
              "      \n",
              "  <style>\n",
              "    .colab-df-container {\n",
              "      display:flex;\n",
              "      flex-wrap:wrap;\n",
              "      gap: 12px;\n",
              "    }\n",
              "\n",
              "    .colab-df-convert {\n",
              "      background-color: #E8F0FE;\n",
              "      border: none;\n",
              "      border-radius: 50%;\n",
              "      cursor: pointer;\n",
              "      display: none;\n",
              "      fill: #1967D2;\n",
              "      height: 32px;\n",
              "      padding: 0 0 0 0;\n",
              "      width: 32px;\n",
              "    }\n",
              "\n",
              "    .colab-df-convert:hover {\n",
              "      background-color: #E2EBFA;\n",
              "      box-shadow: 0px 1px 2px rgba(60, 64, 67, 0.3), 0px 1px 3px 1px rgba(60, 64, 67, 0.15);\n",
              "      fill: #174EA6;\n",
              "    }\n",
              "\n",
              "    [theme=dark] .colab-df-convert {\n",
              "      background-color: #3B4455;\n",
              "      fill: #D2E3FC;\n",
              "    }\n",
              "\n",
              "    [theme=dark] .colab-df-convert:hover {\n",
              "      background-color: #434B5C;\n",
              "      box-shadow: 0px 1px 3px 1px rgba(0, 0, 0, 0.15);\n",
              "      filter: drop-shadow(0px 1px 2px rgba(0, 0, 0, 0.3));\n",
              "      fill: #FFFFFF;\n",
              "    }\n",
              "  </style>\n",
              "\n",
              "      <script>\n",
              "        const buttonEl =\n",
              "          document.querySelector('#df-3ca519e7-2163-427d-9da6-06ab6cc901f0 button.colab-df-convert');\n",
              "        buttonEl.style.display =\n",
              "          google.colab.kernel.accessAllowed ? 'block' : 'none';\n",
              "\n",
              "        async function convertToInteractive(key) {\n",
              "          const element = document.querySelector('#df-3ca519e7-2163-427d-9da6-06ab6cc901f0');\n",
              "          const dataTable =\n",
              "            await google.colab.kernel.invokeFunction('convertToInteractive',\n",
              "                                                     [key], {});\n",
              "          if (!dataTable) return;\n",
              "\n",
              "          const docLinkHtml = 'Like what you see? Visit the ' +\n",
              "            '<a target=\"_blank\" href=https://colab.research.google.com/notebooks/data_table.ipynb>data table notebook</a>'\n",
              "            + ' to learn more about interactive tables.';\n",
              "          element.innerHTML = '';\n",
              "          dataTable['output_type'] = 'display_data';\n",
              "          await google.colab.output.renderOutput(dataTable, element);\n",
              "          const docLink = document.createElement('div');\n",
              "          docLink.innerHTML = docLinkHtml;\n",
              "          element.appendChild(docLink);\n",
              "        }\n",
              "      </script>\n",
              "    </div>\n",
              "  </div>\n",
              "  "
            ]
          },
          "metadata": {},
          "execution_count": 1
        }
      ],
      "source": [
        "import pandas as pd    # perform CSV file I/O  \n",
        "import numpy as np     #  use in fast computaion of array (linear algebra)\n",
        "\n",
        "#loading dataset from csv files\n",
        "train_dataset = pd.read_csv('aug_train.csv')\n",
        "test_dataset = pd.read_csv('aug_test.csv')\n",
        "\n",
        "train_dataset.tail(10) "
      ]
    },
    {
      "cell_type": "code",
      "source": [
        "test_dataset.tail(5)     # tail() shows test dataset from downward"
      ],
      "metadata": {
        "colab": {
          "base_uri": "https://localhost:8080/",
          "height": 322
        },
        "id": "M6UWDEPhv5qx",
        "outputId": "e0d7a9ef-895d-4c11-e91a-76c06520625b"
      },
      "execution_count": 2,
      "outputs": [
        {
          "output_type": "execute_result",
          "data": {
            "text/plain": [
              "      enrollee_id      city  city_development_index gender  \\\n",
              "2124         1289  city_103                   0.920   Male   \n",
              "2125          195  city_136                   0.897   Male   \n",
              "2126        31762  city_100                   0.887   Male   \n",
              "2127         7873  city_102                   0.804   Male   \n",
              "2128        12215  city_102                   0.804   Male   \n",
              "\n",
              "          relevent_experience enrolled_university education_level  \\\n",
              "2124   No relevent experience       no_enrollment        Graduate   \n",
              "2125  Has relevent experience       no_enrollment         Masters   \n",
              "2126   No relevent experience       no_enrollment  Primary School   \n",
              "2127  Has relevent experience    Full time course     High School   \n",
              "2128  Has relevent experience       no_enrollment         Masters   \n",
              "\n",
              "     major_discipline experience company_size   company_type last_new_job  \\\n",
              "2124       Humanities         16          NaN  Public Sector            4   \n",
              "2125             STEM         18          NaN            NaN            2   \n",
              "2126              NaN          3          NaN        Pvt Ltd        never   \n",
              "2127              NaN          7      100-500  Public Sector            1   \n",
              "2128             STEM         15       10000+        Pvt Ltd            2   \n",
              "\n",
              "      training_hours  \n",
              "2124              15  \n",
              "2125              30  \n",
              "2126              18  \n",
              "2127              84  \n",
              "2128              11  "
            ],
            "text/html": [
              "\n",
              "  <div id=\"df-0b5108b8-8705-4395-9d41-4e2e668e9f3f\">\n",
              "    <div class=\"colab-df-container\">\n",
              "      <div>\n",
              "<style scoped>\n",
              "    .dataframe tbody tr th:only-of-type {\n",
              "        vertical-align: middle;\n",
              "    }\n",
              "\n",
              "    .dataframe tbody tr th {\n",
              "        vertical-align: top;\n",
              "    }\n",
              "\n",
              "    .dataframe thead th {\n",
              "        text-align: right;\n",
              "    }\n",
              "</style>\n",
              "<table border=\"1\" class=\"dataframe\">\n",
              "  <thead>\n",
              "    <tr style=\"text-align: right;\">\n",
              "      <th></th>\n",
              "      <th>enrollee_id</th>\n",
              "      <th>city</th>\n",
              "      <th>city_development_index</th>\n",
              "      <th>gender</th>\n",
              "      <th>relevent_experience</th>\n",
              "      <th>enrolled_university</th>\n",
              "      <th>education_level</th>\n",
              "      <th>major_discipline</th>\n",
              "      <th>experience</th>\n",
              "      <th>company_size</th>\n",
              "      <th>company_type</th>\n",
              "      <th>last_new_job</th>\n",
              "      <th>training_hours</th>\n",
              "    </tr>\n",
              "  </thead>\n",
              "  <tbody>\n",
              "    <tr>\n",
              "      <th>2124</th>\n",
              "      <td>1289</td>\n",
              "      <td>city_103</td>\n",
              "      <td>0.920</td>\n",
              "      <td>Male</td>\n",
              "      <td>No relevent experience</td>\n",
              "      <td>no_enrollment</td>\n",
              "      <td>Graduate</td>\n",
              "      <td>Humanities</td>\n",
              "      <td>16</td>\n",
              "      <td>NaN</td>\n",
              "      <td>Public Sector</td>\n",
              "      <td>4</td>\n",
              "      <td>15</td>\n",
              "    </tr>\n",
              "    <tr>\n",
              "      <th>2125</th>\n",
              "      <td>195</td>\n",
              "      <td>city_136</td>\n",
              "      <td>0.897</td>\n",
              "      <td>Male</td>\n",
              "      <td>Has relevent experience</td>\n",
              "      <td>no_enrollment</td>\n",
              "      <td>Masters</td>\n",
              "      <td>STEM</td>\n",
              "      <td>18</td>\n",
              "      <td>NaN</td>\n",
              "      <td>NaN</td>\n",
              "      <td>2</td>\n",
              "      <td>30</td>\n",
              "    </tr>\n",
              "    <tr>\n",
              "      <th>2126</th>\n",
              "      <td>31762</td>\n",
              "      <td>city_100</td>\n",
              "      <td>0.887</td>\n",
              "      <td>Male</td>\n",
              "      <td>No relevent experience</td>\n",
              "      <td>no_enrollment</td>\n",
              "      <td>Primary School</td>\n",
              "      <td>NaN</td>\n",
              "      <td>3</td>\n",
              "      <td>NaN</td>\n",
              "      <td>Pvt Ltd</td>\n",
              "      <td>never</td>\n",
              "      <td>18</td>\n",
              "    </tr>\n",
              "    <tr>\n",
              "      <th>2127</th>\n",
              "      <td>7873</td>\n",
              "      <td>city_102</td>\n",
              "      <td>0.804</td>\n",
              "      <td>Male</td>\n",
              "      <td>Has relevent experience</td>\n",
              "      <td>Full time course</td>\n",
              "      <td>High School</td>\n",
              "      <td>NaN</td>\n",
              "      <td>7</td>\n",
              "      <td>100-500</td>\n",
              "      <td>Public Sector</td>\n",
              "      <td>1</td>\n",
              "      <td>84</td>\n",
              "    </tr>\n",
              "    <tr>\n",
              "      <th>2128</th>\n",
              "      <td>12215</td>\n",
              "      <td>city_102</td>\n",
              "      <td>0.804</td>\n",
              "      <td>Male</td>\n",
              "      <td>Has relevent experience</td>\n",
              "      <td>no_enrollment</td>\n",
              "      <td>Masters</td>\n",
              "      <td>STEM</td>\n",
              "      <td>15</td>\n",
              "      <td>10000+</td>\n",
              "      <td>Pvt Ltd</td>\n",
              "      <td>2</td>\n",
              "      <td>11</td>\n",
              "    </tr>\n",
              "  </tbody>\n",
              "</table>\n",
              "</div>\n",
              "      <button class=\"colab-df-convert\" onclick=\"convertToInteractive('df-0b5108b8-8705-4395-9d41-4e2e668e9f3f')\"\n",
              "              title=\"Convert this dataframe to an interactive table.\"\n",
              "              style=\"display:none;\">\n",
              "        \n",
              "  <svg xmlns=\"http://www.w3.org/2000/svg\" height=\"24px\"viewBox=\"0 0 24 24\"\n",
              "       width=\"24px\">\n",
              "    <path d=\"M0 0h24v24H0V0z\" fill=\"none\"/>\n",
              "    <path d=\"M18.56 5.44l.94 2.06.94-2.06 2.06-.94-2.06-.94-.94-2.06-.94 2.06-2.06.94zm-11 1L8.5 8.5l.94-2.06 2.06-.94-2.06-.94L8.5 2.5l-.94 2.06-2.06.94zm10 10l.94 2.06.94-2.06 2.06-.94-2.06-.94-.94-2.06-.94 2.06-2.06.94z\"/><path d=\"M17.41 7.96l-1.37-1.37c-.4-.4-.92-.59-1.43-.59-.52 0-1.04.2-1.43.59L10.3 9.45l-7.72 7.72c-.78.78-.78 2.05 0 2.83L4 21.41c.39.39.9.59 1.41.59.51 0 1.02-.2 1.41-.59l7.78-7.78 2.81-2.81c.8-.78.8-2.07 0-2.86zM5.41 20L4 18.59l7.72-7.72 1.47 1.35L5.41 20z\"/>\n",
              "  </svg>\n",
              "      </button>\n",
              "      \n",
              "  <style>\n",
              "    .colab-df-container {\n",
              "      display:flex;\n",
              "      flex-wrap:wrap;\n",
              "      gap: 12px;\n",
              "    }\n",
              "\n",
              "    .colab-df-convert {\n",
              "      background-color: #E8F0FE;\n",
              "      border: none;\n",
              "      border-radius: 50%;\n",
              "      cursor: pointer;\n",
              "      display: none;\n",
              "      fill: #1967D2;\n",
              "      height: 32px;\n",
              "      padding: 0 0 0 0;\n",
              "      width: 32px;\n",
              "    }\n",
              "\n",
              "    .colab-df-convert:hover {\n",
              "      background-color: #E2EBFA;\n",
              "      box-shadow: 0px 1px 2px rgba(60, 64, 67, 0.3), 0px 1px 3px 1px rgba(60, 64, 67, 0.15);\n",
              "      fill: #174EA6;\n",
              "    }\n",
              "\n",
              "    [theme=dark] .colab-df-convert {\n",
              "      background-color: #3B4455;\n",
              "      fill: #D2E3FC;\n",
              "    }\n",
              "\n",
              "    [theme=dark] .colab-df-convert:hover {\n",
              "      background-color: #434B5C;\n",
              "      box-shadow: 0px 1px 3px 1px rgba(0, 0, 0, 0.15);\n",
              "      filter: drop-shadow(0px 1px 2px rgba(0, 0, 0, 0.3));\n",
              "      fill: #FFFFFF;\n",
              "    }\n",
              "  </style>\n",
              "\n",
              "      <script>\n",
              "        const buttonEl =\n",
              "          document.querySelector('#df-0b5108b8-8705-4395-9d41-4e2e668e9f3f button.colab-df-convert');\n",
              "        buttonEl.style.display =\n",
              "          google.colab.kernel.accessAllowed ? 'block' : 'none';\n",
              "\n",
              "        async function convertToInteractive(key) {\n",
              "          const element = document.querySelector('#df-0b5108b8-8705-4395-9d41-4e2e668e9f3f');\n",
              "          const dataTable =\n",
              "            await google.colab.kernel.invokeFunction('convertToInteractive',\n",
              "                                                     [key], {});\n",
              "          if (!dataTable) return;\n",
              "\n",
              "          const docLinkHtml = 'Like what you see? Visit the ' +\n",
              "            '<a target=\"_blank\" href=https://colab.research.google.com/notebooks/data_table.ipynb>data table notebook</a>'\n",
              "            + ' to learn more about interactive tables.';\n",
              "          element.innerHTML = '';\n",
              "          dataTable['output_type'] = 'display_data';\n",
              "          await google.colab.output.renderOutput(dataTable, element);\n",
              "          const docLink = document.createElement('div');\n",
              "          docLink.innerHTML = docLinkHtml;\n",
              "          element.appendChild(docLink);\n",
              "        }\n",
              "      </script>\n",
              "    </div>\n",
              "  </div>\n",
              "  "
            ]
          },
          "metadata": {},
          "execution_count": 2
        }
      ]
    },
    {
      "cell_type": "code",
      "source": [
        "train_dataset.info()         # gives information about colulmn attribute wether null/non_null and datatypes"
      ],
      "metadata": {
        "colab": {
          "base_uri": "https://localhost:8080/"
        },
        "id": "IR1QTzM0wxGA",
        "outputId": "c303e22d-20b8-40e3-9df9-c4db345d769b"
      },
      "execution_count": 3,
      "outputs": [
        {
          "output_type": "stream",
          "name": "stdout",
          "text": [
            "<class 'pandas.core.frame.DataFrame'>\n",
            "RangeIndex: 19158 entries, 0 to 19157\n",
            "Data columns (total 14 columns):\n",
            " #   Column                  Non-Null Count  Dtype  \n",
            "---  ------                  --------------  -----  \n",
            " 0   enrollee_id             19158 non-null  int64  \n",
            " 1   city                    19158 non-null  object \n",
            " 2   city_development_index  19158 non-null  float64\n",
            " 3   gender                  14650 non-null  object \n",
            " 4   relevent_experience     19158 non-null  object \n",
            " 5   enrolled_university     18772 non-null  object \n",
            " 6   education_level         18698 non-null  object \n",
            " 7   major_discipline        16345 non-null  object \n",
            " 8   experience              19093 non-null  object \n",
            " 9   company_size            13220 non-null  object \n",
            " 10  company_type            13018 non-null  object \n",
            " 11  last_new_job            18735 non-null  object \n",
            " 12  training_hours          19158 non-null  int64  \n",
            " 13  target                  19158 non-null  float64\n",
            "dtypes: float64(2), int64(2), object(10)\n",
            "memory usage: 2.0+ MB\n"
          ]
        }
      ]
    },
    {
      "cell_type": "code",
      "source": [
        "test_dataset.info()"
      ],
      "metadata": {
        "colab": {
          "base_uri": "https://localhost:8080/"
        },
        "id": "bbuNkK-pwxZf",
        "outputId": "c5acf87c-194b-422d-b723-260f1459a6d2"
      },
      "execution_count": 4,
      "outputs": [
        {
          "output_type": "stream",
          "name": "stdout",
          "text": [
            "<class 'pandas.core.frame.DataFrame'>\n",
            "RangeIndex: 2129 entries, 0 to 2128\n",
            "Data columns (total 13 columns):\n",
            " #   Column                  Non-Null Count  Dtype  \n",
            "---  ------                  --------------  -----  \n",
            " 0   enrollee_id             2129 non-null   int64  \n",
            " 1   city                    2129 non-null   object \n",
            " 2   city_development_index  2129 non-null   float64\n",
            " 3   gender                  1621 non-null   object \n",
            " 4   relevent_experience     2129 non-null   object \n",
            " 5   enrolled_university     2098 non-null   object \n",
            " 6   education_level         2077 non-null   object \n",
            " 7   major_discipline        1817 non-null   object \n",
            " 8   experience              2124 non-null   object \n",
            " 9   company_size            1507 non-null   object \n",
            " 10  company_type            1495 non-null   object \n",
            " 11  last_new_job            2089 non-null   object \n",
            " 12  training_hours          2129 non-null   int64  \n",
            "dtypes: float64(1), int64(2), object(10)\n",
            "memory usage: 216.4+ KB\n"
          ]
        }
      ]
    },
    {
      "cell_type": "markdown",
      "source": [
        "Data description about each column attributes \n",
        "* enrollee_id : Unique ID for candidate\n",
        "* city: City code\n",
        "* city_ development _index : Developement index of the city (scaled)\n",
        "* gender: Gender of candidate\n",
        "* relevent_experience: Relevant experience of candidate\n",
        "* enrolled_university: Type of University course enrolled if any\n",
        "* education_level: Education level of candidate\n",
        "* major_discipline :Education major discipline of candidate\n",
        "* experience: Candidate total experience in years\n",
        "* company_size: No of employees in current employer's company\n",
        "* company_type : Type of current employer\n",
        "* lastnewjob: Difference in years between previous job and current job\n",
        "* training_hours: training hours completed\n",
        "* target: 0 – Not looking for job change, 1 – Looking for a job change\n",
        "\n"
      ],
      "metadata": {
        "id": "RsVilspQ042n"
      }
    },
    {
      "cell_type": "markdown",
      "source": [
        "### feature engineering\n",
        "Thre are 5 Ordinal variables present\n",
        "* experience\n",
        "* education_level\n",
        "* company_type\n",
        "* last_new_job\n",
        "* company_size"
      ],
      "metadata": {
        "id": "FlEx98Fp10GU"
      }
    },
    {
      "cell_type": "code",
      "source": [
        "# we have to perform feature engineering in both train and test dataset so we can comnbine the dataset and later we can split train, test after data preprocesing\n",
        "# we will have to add fake target attribute in test dataset for combine with train dataset for easy separation\n",
        "\n",
        "test_dataset['target'] = -1  # later we have to remove fake target variable from test\n",
        "\n",
        "# suggestion - always reset indices whenever join or split dataset is done\n",
        "\n",
        "df_combine = pd.concat([train_dataset, test_dataset], axis = 0).reset_index(drop = True)\n",
        "\n",
        "df_combine.info()"
      ],
      "metadata": {
        "colab": {
          "base_uri": "https://localhost:8080/"
        },
        "id": "QhJoTB7e1zwp",
        "outputId": "c3b9a3b2-392e-44fa-f2f6-2327dccbf3b7"
      },
      "execution_count": 5,
      "outputs": [
        {
          "output_type": "stream",
          "name": "stdout",
          "text": [
            "<class 'pandas.core.frame.DataFrame'>\n",
            "RangeIndex: 21287 entries, 0 to 21286\n",
            "Data columns (total 14 columns):\n",
            " #   Column                  Non-Null Count  Dtype  \n",
            "---  ------                  --------------  -----  \n",
            " 0   enrollee_id             21287 non-null  int64  \n",
            " 1   city                    21287 non-null  object \n",
            " 2   city_development_index  21287 non-null  float64\n",
            " 3   gender                  16271 non-null  object \n",
            " 4   relevent_experience     21287 non-null  object \n",
            " 5   enrolled_university     20870 non-null  object \n",
            " 6   education_level         20775 non-null  object \n",
            " 7   major_discipline        18162 non-null  object \n",
            " 8   experience              21217 non-null  object \n",
            " 9   company_size            14727 non-null  object \n",
            " 10  company_type            14513 non-null  object \n",
            " 11  last_new_job            20824 non-null  object \n",
            " 12  training_hours          21287 non-null  int64  \n",
            " 13  target                  21287 non-null  float64\n",
            "dtypes: float64(2), int64(2), object(10)\n",
            "memory usage: 2.3+ MB\n"
          ]
        }
      ]
    },
    {
      "cell_type": "markdown",
      "source": [
        "***Use hot encoding for categorical variable***"
      ],
      "metadata": {
        "id": "rpAFKKjR9EPX"
      }
    },
    {
      "cell_type": "code",
      "source": [
        "# label encoding can be done by LabelEncoder present in Scikit-Learn \n",
        "# firstly handle missing values\n",
        "\n",
        "from sklearn.preprocessing import LabelEncoder\n",
        "df = df_combine.copy()\n",
        "df['education_level'].value_counts()"
      ],
      "metadata": {
        "colab": {
          "base_uri": "https://localhost:8080/"
        },
        "id": "7sK2ttYI1mQm",
        "outputId": "a34b0ca3-b0db-4a79-e339-81757473eae1"
      },
      "execution_count": 6,
      "outputs": [
        {
          "output_type": "execute_result",
          "data": {
            "text/plain": [
              "Graduate          12867\n",
              "Masters            4857\n",
              "High School        2239\n",
              "Phd                 468\n",
              "Primary School      344\n",
              "Name: education_level, dtype: int64"
            ]
          },
          "metadata": {},
          "execution_count": 6
        }
      ]
    },
    {
      "cell_type": "code",
      "source": [
        "df.loc[:, 'education_level'] =  df['education_level'].fillna(\"NONE\")\n",
        "label_encoder = LabelEncoder()\n",
        "df.loc[:, 'education_level'] = label_encoder.fit_transform(df['education_level'].values) \n",
        "df['education_level'].value_counts()"
      ],
      "metadata": {
        "colab": {
          "base_uri": "https://localhost:8080/"
        },
        "id": "FizRFRM3dykY",
        "outputId": "ec19548a-f125-46c7-b7f8-13e9adccc611"
      },
      "execution_count": 7,
      "outputs": [
        {
          "output_type": "execute_result",
          "data": {
            "text/plain": [
              "0    12867\n",
              "2     4857\n",
              "1     2239\n",
              "3      512\n",
              "4      468\n",
              "5      344\n",
              "Name: education_level, dtype: int64"
            ]
          },
          "metadata": {},
          "execution_count": 7
        }
      ]
    },
    {
      "cell_type": "code",
      "source": [
        "# Using dictionary for mapping ordinal feature\n",
        "\n",
        "experience_map = {\n",
        "    '<1' : 0, '1' : 1, '2' : 2, '3' : 3, '4': 4, '5':5, '6' : 6, '7' : 7, '8': 8, '9': 9, '10' : 10, '11' : 11, '12' : 12, '13': 13,\n",
        "    '14': 14, '15' : 15, '16' : 16, '17' : 17, '18' : 18, '19' : 19, '20' : 20, '>20' : 21\n",
        "    }\n",
        "\n",
        "gender_map = {\n",
        "    ' Other' : 0, 'Male' : 1,  'Female' : 2\n",
        "}\n",
        "\n",
        "relevent_experience_map = {\n",
        "    'No relevent experience' : 0,\n",
        "    'Has relevent experience' : 1\n",
        "}\n",
        "\n",
        "enrolled_university_map = {\n",
        "    'no_enrollment' : 0, 'Full time course' : 1, 'Part time course' : 2\n",
        "}\n",
        "\n",
        "education_level_map ={\n",
        "    'Primary School' : 0, 'High School' : 1, 'Graduate' : 2, 'Master' : 3, 'Phd' : 4\n",
        "}\n",
        "\n",
        "major_map ={\n",
        "    'STEM' : 1, 'Buisness Degree' : 2,\n",
        "    'Arts' : 3, 'Humanities' : 4,\n",
        "    'No Major' : 5, 'Other' : 0\n",
        "}\n",
        "\n",
        "company_type_map = {\n",
        "    'Other' : 0, \n",
        "    'Funded Startup' :  1, \n",
        "    'Early Stage Startup' : 2, \n",
        "    'Pvt Ltd' : 3,\n",
        "    'Public Sector' : 4, \n",
        "    'NGO' : 5\n",
        "}\n",
        "\n",
        "company_size_map = {\n",
        "    '<10' : 0, '10/49' : 1, '100-500' : 2, \n",
        "    '1000-4999' : 3, '10000+' : 4, '50-99' : 5, \n",
        "    '500-999' : 6, '5000-9999' : 7\n",
        "}\n",
        "    \n",
        "last_new_job_map = {\n",
        "    'never' : 0, '1' : 1, '2' : 2, '3' : 3, '4' : 4, '>4' : 5\n",
        "}"
      ],
      "metadata": {
        "id": "t52LV09kEo-S"
      },
      "execution_count": 8,
      "outputs": []
    },
    {
      "cell_type": "code",
      "source": [
        "# Transforming Categorical columns into numarical columns\n",
        "\n",
        "df_combine.loc[:,'education_level'] = df_combine['education_level'].map(education_level_map)\n",
        "df_combine.loc[:,'company_size'] = df_combine['company_size'].map(company_size_map)\n",
        "df_combine.loc[:,'company_type'] = df_combine['company_type'].map(company_type_map)\n",
        "df_combine.loc[:,'last_new_job'] = df_combine['last_new_job'].map(last_new_job_map)\n",
        "df_combine.loc[:,'major_discipline'] = df_combine['major_discipline'].map(major_map)\n",
        "df_combine.loc[:,'enrolled_university'] = df_combine['enrolled_university'].map(enrolled_university_map)\n",
        "df_combine.loc[:,'relevent_experience'] = df_combine['relevent_experience'].map(relevent_experience_map)\n",
        "df_combine.loc[:,'gender'] = df_combine['gender'].map(gender_map)\n",
        "df_combine.loc[:,'experience'] = df_combine['experience'].map(experience_map)\n",
        "\n",
        "# encoding city feature using label encoder\n",
        "label_enc = LabelEncoder()\n",
        "\n",
        "df_combine.loc[:,'city'] = label_enc.fit_transform(df_combine.loc[:,'city']) "
      ],
      "metadata": {
        "id": "Kdx2KxLcfyGg"
      },
      "execution_count": 9,
      "outputs": []
    },
    {
      "cell_type": "code",
      "source": [
        "df_combine.head(5) # combined dataframe test and train"
      ],
      "metadata": {
        "colab": {
          "base_uri": "https://localhost:8080/",
          "height": 270
        },
        "id": "turFCqtdg6qO",
        "outputId": "ca72df52-9cc8-4f66-a838-0b66e5fdb408"
      },
      "execution_count": 10,
      "outputs": [
        {
          "output_type": "execute_result",
          "data": {
            "text/plain": [
              "   enrollee_id  city  city_development_index  gender  relevent_experience  \\\n",
              "0         8949     5                   0.920     1.0                    1   \n",
              "1        29725    77                   0.776     1.0                    0   \n",
              "2        11561    64                   0.624     NaN                    0   \n",
              "3        33241    14                   0.789     NaN                    0   \n",
              "4          666    50                   0.767     1.0                    1   \n",
              "\n",
              "   enrolled_university  education_level  major_discipline  experience  \\\n",
              "0                  0.0              2.0               1.0        21.0   \n",
              "1                  0.0              2.0               1.0        15.0   \n",
              "2                  1.0              2.0               1.0         5.0   \n",
              "3                  NaN              2.0               NaN         0.0   \n",
              "4                  0.0              NaN               1.0        21.0   \n",
              "\n",
              "   company_size  company_type  last_new_job  training_hours  target  \n",
              "0           NaN           NaN           1.0              36     1.0  \n",
              "1           5.0           3.0           5.0              47     0.0  \n",
              "2           NaN           NaN           0.0              83     0.0  \n",
              "3           NaN           3.0           0.0              52     1.0  \n",
              "4           5.0           1.0           4.0               8     0.0  "
            ],
            "text/html": [
              "\n",
              "  <div id=\"df-eec8b08c-1a50-437f-83e8-bacf17486eb0\">\n",
              "    <div class=\"colab-df-container\">\n",
              "      <div>\n",
              "<style scoped>\n",
              "    .dataframe tbody tr th:only-of-type {\n",
              "        vertical-align: middle;\n",
              "    }\n",
              "\n",
              "    .dataframe tbody tr th {\n",
              "        vertical-align: top;\n",
              "    }\n",
              "\n",
              "    .dataframe thead th {\n",
              "        text-align: right;\n",
              "    }\n",
              "</style>\n",
              "<table border=\"1\" class=\"dataframe\">\n",
              "  <thead>\n",
              "    <tr style=\"text-align: right;\">\n",
              "      <th></th>\n",
              "      <th>enrollee_id</th>\n",
              "      <th>city</th>\n",
              "      <th>city_development_index</th>\n",
              "      <th>gender</th>\n",
              "      <th>relevent_experience</th>\n",
              "      <th>enrolled_university</th>\n",
              "      <th>education_level</th>\n",
              "      <th>major_discipline</th>\n",
              "      <th>experience</th>\n",
              "      <th>company_size</th>\n",
              "      <th>company_type</th>\n",
              "      <th>last_new_job</th>\n",
              "      <th>training_hours</th>\n",
              "      <th>target</th>\n",
              "    </tr>\n",
              "  </thead>\n",
              "  <tbody>\n",
              "    <tr>\n",
              "      <th>0</th>\n",
              "      <td>8949</td>\n",
              "      <td>5</td>\n",
              "      <td>0.920</td>\n",
              "      <td>1.0</td>\n",
              "      <td>1</td>\n",
              "      <td>0.0</td>\n",
              "      <td>2.0</td>\n",
              "      <td>1.0</td>\n",
              "      <td>21.0</td>\n",
              "      <td>NaN</td>\n",
              "      <td>NaN</td>\n",
              "      <td>1.0</td>\n",
              "      <td>36</td>\n",
              "      <td>1.0</td>\n",
              "    </tr>\n",
              "    <tr>\n",
              "      <th>1</th>\n",
              "      <td>29725</td>\n",
              "      <td>77</td>\n",
              "      <td>0.776</td>\n",
              "      <td>1.0</td>\n",
              "      <td>0</td>\n",
              "      <td>0.0</td>\n",
              "      <td>2.0</td>\n",
              "      <td>1.0</td>\n",
              "      <td>15.0</td>\n",
              "      <td>5.0</td>\n",
              "      <td>3.0</td>\n",
              "      <td>5.0</td>\n",
              "      <td>47</td>\n",
              "      <td>0.0</td>\n",
              "    </tr>\n",
              "    <tr>\n",
              "      <th>2</th>\n",
              "      <td>11561</td>\n",
              "      <td>64</td>\n",
              "      <td>0.624</td>\n",
              "      <td>NaN</td>\n",
              "      <td>0</td>\n",
              "      <td>1.0</td>\n",
              "      <td>2.0</td>\n",
              "      <td>1.0</td>\n",
              "      <td>5.0</td>\n",
              "      <td>NaN</td>\n",
              "      <td>NaN</td>\n",
              "      <td>0.0</td>\n",
              "      <td>83</td>\n",
              "      <td>0.0</td>\n",
              "    </tr>\n",
              "    <tr>\n",
              "      <th>3</th>\n",
              "      <td>33241</td>\n",
              "      <td>14</td>\n",
              "      <td>0.789</td>\n",
              "      <td>NaN</td>\n",
              "      <td>0</td>\n",
              "      <td>NaN</td>\n",
              "      <td>2.0</td>\n",
              "      <td>NaN</td>\n",
              "      <td>0.0</td>\n",
              "      <td>NaN</td>\n",
              "      <td>3.0</td>\n",
              "      <td>0.0</td>\n",
              "      <td>52</td>\n",
              "      <td>1.0</td>\n",
              "    </tr>\n",
              "    <tr>\n",
              "      <th>4</th>\n",
              "      <td>666</td>\n",
              "      <td>50</td>\n",
              "      <td>0.767</td>\n",
              "      <td>1.0</td>\n",
              "      <td>1</td>\n",
              "      <td>0.0</td>\n",
              "      <td>NaN</td>\n",
              "      <td>1.0</td>\n",
              "      <td>21.0</td>\n",
              "      <td>5.0</td>\n",
              "      <td>1.0</td>\n",
              "      <td>4.0</td>\n",
              "      <td>8</td>\n",
              "      <td>0.0</td>\n",
              "    </tr>\n",
              "  </tbody>\n",
              "</table>\n",
              "</div>\n",
              "      <button class=\"colab-df-convert\" onclick=\"convertToInteractive('df-eec8b08c-1a50-437f-83e8-bacf17486eb0')\"\n",
              "              title=\"Convert this dataframe to an interactive table.\"\n",
              "              style=\"display:none;\">\n",
              "        \n",
              "  <svg xmlns=\"http://www.w3.org/2000/svg\" height=\"24px\"viewBox=\"0 0 24 24\"\n",
              "       width=\"24px\">\n",
              "    <path d=\"M0 0h24v24H0V0z\" fill=\"none\"/>\n",
              "    <path d=\"M18.56 5.44l.94 2.06.94-2.06 2.06-.94-2.06-.94-.94-2.06-.94 2.06-2.06.94zm-11 1L8.5 8.5l.94-2.06 2.06-.94-2.06-.94L8.5 2.5l-.94 2.06-2.06.94zm10 10l.94 2.06.94-2.06 2.06-.94-2.06-.94-.94-2.06-.94 2.06-2.06.94z\"/><path d=\"M17.41 7.96l-1.37-1.37c-.4-.4-.92-.59-1.43-.59-.52 0-1.04.2-1.43.59L10.3 9.45l-7.72 7.72c-.78.78-.78 2.05 0 2.83L4 21.41c.39.39.9.59 1.41.59.51 0 1.02-.2 1.41-.59l7.78-7.78 2.81-2.81c.8-.78.8-2.07 0-2.86zM5.41 20L4 18.59l7.72-7.72 1.47 1.35L5.41 20z\"/>\n",
              "  </svg>\n",
              "      </button>\n",
              "      \n",
              "  <style>\n",
              "    .colab-df-container {\n",
              "      display:flex;\n",
              "      flex-wrap:wrap;\n",
              "      gap: 12px;\n",
              "    }\n",
              "\n",
              "    .colab-df-convert {\n",
              "      background-color: #E8F0FE;\n",
              "      border: none;\n",
              "      border-radius: 50%;\n",
              "      cursor: pointer;\n",
              "      display: none;\n",
              "      fill: #1967D2;\n",
              "      height: 32px;\n",
              "      padding: 0 0 0 0;\n",
              "      width: 32px;\n",
              "    }\n",
              "\n",
              "    .colab-df-convert:hover {\n",
              "      background-color: #E2EBFA;\n",
              "      box-shadow: 0px 1px 2px rgba(60, 64, 67, 0.3), 0px 1px 3px 1px rgba(60, 64, 67, 0.15);\n",
              "      fill: #174EA6;\n",
              "    }\n",
              "\n",
              "    [theme=dark] .colab-df-convert {\n",
              "      background-color: #3B4455;\n",
              "      fill: #D2E3FC;\n",
              "    }\n",
              "\n",
              "    [theme=dark] .colab-df-convert:hover {\n",
              "      background-color: #434B5C;\n",
              "      box-shadow: 0px 1px 3px 1px rgba(0, 0, 0, 0.15);\n",
              "      filter: drop-shadow(0px 1px 2px rgba(0, 0, 0, 0.3));\n",
              "      fill: #FFFFFF;\n",
              "    }\n",
              "  </style>\n",
              "\n",
              "      <script>\n",
              "        const buttonEl =\n",
              "          document.querySelector('#df-eec8b08c-1a50-437f-83e8-bacf17486eb0 button.colab-df-convert');\n",
              "        buttonEl.style.display =\n",
              "          google.colab.kernel.accessAllowed ? 'block' : 'none';\n",
              "\n",
              "        async function convertToInteractive(key) {\n",
              "          const element = document.querySelector('#df-eec8b08c-1a50-437f-83e8-bacf17486eb0');\n",
              "          const dataTable =\n",
              "            await google.colab.kernel.invokeFunction('convertToInteractive',\n",
              "                                                     [key], {});\n",
              "          if (!dataTable) return;\n",
              "\n",
              "          const docLinkHtml = 'Like what you see? Visit the ' +\n",
              "            '<a target=\"_blank\" href=https://colab.research.google.com/notebooks/data_table.ipynb>data table notebook</a>'\n",
              "            + ' to learn more about interactive tables.';\n",
              "          element.innerHTML = '';\n",
              "          dataTable['output_type'] = 'display_data';\n",
              "          await google.colab.output.renderOutput(dataTable, element);\n",
              "          const docLink = document.createElement('div');\n",
              "          docLink.innerHTML = docLinkHtml;\n",
              "          element.appendChild(docLink);\n",
              "        }\n",
              "      </script>\n",
              "    </div>\n",
              "  </div>\n",
              "  "
            ]
          },
          "metadata": {},
          "execution_count": 10
        }
      ]
    },
    {
      "cell_type": "code",
      "source": [
        "df_combine.info()"
      ],
      "metadata": {
        "colab": {
          "base_uri": "https://localhost:8080/"
        },
        "id": "qxiGCsTzhDdG",
        "outputId": "a57e7a24-c6c0-4caa-85a8-0f1d0368e759"
      },
      "execution_count": 11,
      "outputs": [
        {
          "output_type": "stream",
          "name": "stdout",
          "text": [
            "<class 'pandas.core.frame.DataFrame'>\n",
            "RangeIndex: 21287 entries, 0 to 21286\n",
            "Data columns (total 14 columns):\n",
            " #   Column                  Non-Null Count  Dtype  \n",
            "---  ------                  --------------  -----  \n",
            " 0   enrollee_id             21287 non-null  int64  \n",
            " 1   city                    21287 non-null  int64  \n",
            " 2   city_development_index  21287 non-null  float64\n",
            " 3   gender                  16056 non-null  float64\n",
            " 4   relevent_experience     21287 non-null  int64  \n",
            " 5   enrolled_university     20870 non-null  float64\n",
            " 6   education_level         15918 non-null  float64\n",
            " 7   major_discipline        17798 non-null  float64\n",
            " 8   experience              21217 non-null  float64\n",
            " 9   company_size            14727 non-null  float64\n",
            " 10  company_type            14513 non-null  float64\n",
            " 11  last_new_job            20824 non-null  float64\n",
            " 12  training_hours          21287 non-null  int64  \n",
            " 13  target                  21287 non-null  float64\n",
            "dtypes: float64(10), int64(4)\n",
            "memory usage: 2.3 MB\n"
          ]
        }
      ]
    },
    {
      "cell_type": "markdown",
      "source": [
        "**Handling Missing Data**"
      ],
      "metadata": {
        "id": "KHF45AaPZxbr"
      }
    },
    {
      "cell_type": "code",
      "source": [
        "import missingno as mns\n",
        "import matplotlib.pyplot as plot\n",
        "\n",
        "mns.matrix(df)\n",
        "plot.figure(figsize = (15,9))\n",
        "plot.show()"
      ],
      "metadata": {
        "colab": {
          "base_uri": "https://localhost:8080/",
          "height": 450
        },
        "id": "GDDwy9y9DgPN",
        "outputId": "198964e0-9927-43c3-dfcd-f8215607177a"
      },
      "execution_count": 12,
      "outputs": [
        {
          "output_type": "display_data",
          "data": {
            "text/plain": [
              "<Figure size 1800x720 with 2 Axes>"
            ],
            "image/png": "[encoded data removed]"
          },
          "metadata": {
            "needs_background": "light"
          }
        },
        {
          "output_type": "display_data",
          "data": {
            "text/plain": [
              "<Figure size 1080x648 with 0 Axes>"
            ]
          },
          "metadata": {}
        }
      ]
    },
    {
      "cell_type": "markdown",
      "source": [
        "bar graph shows missing data in each column attribute"
      ],
      "metadata": {
        "id": "h1zVZ6hr8OID"
      }
    },
    {
      "cell_type": "code",
      "source": [
        " mns.bar(df_combine, sort = 'ascending', figsize=(8,4), fontsize=10) # arrange in ascending order"
      ],
      "metadata": {
        "id": "tIpzQ5Xfk_BR",
        "colab": {
          "base_uri": "https://localhost:8080/",
          "height": 402
        },
        "outputId": "2358f564-4111-4847-9a2b-7acbc9bef94e"
      },
      "execution_count": 13,
      "outputs": [
        {
          "output_type": "execute_result",
          "data": {
            "text/plain": [
              "<matplotlib.axes._subplots.AxesSubplot at 0x7f72e29b5810>"
            ]
          },
          "metadata": {},
          "execution_count": 13
        },
        {
          "output_type": "display_data",
          "data": {
            "text/plain": [
              "<Figure size 576x288 with 3 Axes>"
            ],
            "image/png": "[encoded data removed]"
          },
          "metadata": {
            "needs_background": "light"
          }
        }
      ]
    },
    {
      "cell_type": "markdown",
      "source": [
        "arranging in ascending order of missing data in each column attribute"
      ],
      "metadata": {
        "id": "DDKj1Ozc8WKB"
      }
    },
    {
      "cell_type": "code",
      "source": [
        "# number of null values present in every column in train and test combine dataset\n",
        "\n",
        "for col in df_combine.columns:\n",
        "    null_val = df_combine[col].isnull().sum()\n",
        "    null_prec = (null_val * 100) / df_combine.shape[0]\n",
        "    print('> %s , Missing: %d (%.1f%%)' % (col, null_val, null_prec))"
      ],
      "metadata": {
        "colab": {
          "base_uri": "https://localhost:8080/"
        },
        "id": "tc73eag_a6Nu",
        "outputId": "a46de0bf-5b3f-4c68-f94d-557b6612cd9f"
      },
      "execution_count": 14,
      "outputs": [
        {
          "output_type": "stream",
          "name": "stdout",
          "text": [
            "> enrollee_id , Missing: 0 (0.0%)\n",
            "> city , Missing: 0 (0.0%)\n",
            "> city_development_index , Missing: 0 (0.0%)\n",
            "> gender , Missing: 5231 (24.6%)\n",
            "> relevent_experience , Missing: 0 (0.0%)\n",
            "> enrolled_university , Missing: 417 (2.0%)\n",
            "> education_level , Missing: 5369 (25.2%)\n",
            "> major_discipline , Missing: 3489 (16.4%)\n",
            "> experience , Missing: 70 (0.3%)\n",
            "> company_size , Missing: 6560 (30.8%)\n",
            "> company_type , Missing: 6774 (31.8%)\n",
            "> last_new_job , Missing: 463 (2.2%)\n",
            "> training_hours , Missing: 0 (0.0%)\n",
            "> target , Missing: 0 (0.0%)\n"
          ]
        }
      ]
    },
    {
      "cell_type": "code",
      "source": [
        "mns.heatmap(df_combine, cmap=\"PiYG\", figsize=(8,4), fontsize=10);"
      ],
      "metadata": {
        "colab": {
          "base_uri": "https://localhost:8080/",
          "height": 334
        },
        "id": "_3DJhChWa_sl",
        "outputId": "826aa99b-502b-4e13-ef15-58cf998eb716"
      },
      "execution_count": 15,
      "outputs": [
        {
          "output_type": "display_data",
          "data": {
            "text/plain": [
              "<Figure size 576x288 with 2 Axes>"
            ],
            "image/png": "[encoded data removed]"
          },
          "metadata": {
            "needs_background": "light"
          }
        }
      ]
    },
    {
      "cell_type": "markdown",
      "source": [
        "company size and company type attribute highly positive co-related than other attributes"
      ],
      "metadata": {
        "id": "tQ1uLRgDF746"
      }
    },
    {
      "cell_type": "code",
      "source": [
        "# Use nearest neighbour approch for replacing missing values\n",
        "# Algorithms uses nearest Imputation for completing missing values using k-Nearest Neighbors.\n",
        "#Each sample's missing values are imputed using the mean value from n_neighbors nearest neighbors found in the training set. \n",
        "#Two samples are close if the features that neither is missing are close\n",
        "from sklearn.impute import KNNImputer        \n",
        "df_combine1 = df_combine.copy()\n",
        "knn_imputer = KNNImputer(n_neighbors = 3)\n",
        "\n",
        "X = np.round(knn_imputer.fit_transform(df_combine1))\n",
        "df_combine1 = pd.DataFrame(X, columns = df_combine1.columns)\n",
        "df_combine1.info()"
      ],
      "metadata": {
        "colab": {
          "base_uri": "https://localhost:8080/"
        },
        "id": "cofXhvfBbFLP",
        "outputId": "4dfb2865-b29c-4a8e-f7c5-12061c7aed5c"
      },
      "execution_count": 16,
      "outputs": [
        {
          "output_type": "stream",
          "name": "stdout",
          "text": [
            "<class 'pandas.core.frame.DataFrame'>\n",
            "RangeIndex: 21287 entries, 0 to 21286\n",
            "Data columns (total 14 columns):\n",
            " #   Column                  Non-Null Count  Dtype  \n",
            "---  ------                  --------------  -----  \n",
            " 0   enrollee_id             21287 non-null  float64\n",
            " 1   city                    21287 non-null  float64\n",
            " 2   city_development_index  21287 non-null  float64\n",
            " 3   gender                  21287 non-null  float64\n",
            " 4   relevent_experience     21287 non-null  float64\n",
            " 5   enrolled_university     21287 non-null  float64\n",
            " 6   education_level         21287 non-null  float64\n",
            " 7   major_discipline        21287 non-null  float64\n",
            " 8   experience              21287 non-null  float64\n",
            " 9   company_size            21287 non-null  float64\n",
            " 10  company_type            21287 non-null  float64\n",
            " 11  last_new_job            21287 non-null  float64\n",
            " 12  training_hours          21287 non-null  float64\n",
            " 13  target                  21287 non-null  float64\n",
            "dtypes: float64(14)\n",
            "memory usage: 2.3 MB\n"
          ]
        }
      ]
    },
    {
      "cell_type": "code",
      "source": [
        "df_combine1.info()"
      ],
      "metadata": {
        "id": "H4c7MXQybNmg",
        "colab": {
          "base_uri": "https://localhost:8080/"
        },
        "outputId": "927b528e-e8a9-4a9b-b70f-2211e5c4f890"
      },
      "execution_count": 17,
      "outputs": [
        {
          "output_type": "stream",
          "name": "stdout",
          "text": [
            "<class 'pandas.core.frame.DataFrame'>\n",
            "RangeIndex: 21287 entries, 0 to 21286\n",
            "Data columns (total 14 columns):\n",
            " #   Column                  Non-Null Count  Dtype  \n",
            "---  ------                  --------------  -----  \n",
            " 0   enrollee_id             21287 non-null  float64\n",
            " 1   city                    21287 non-null  float64\n",
            " 2   city_development_index  21287 non-null  float64\n",
            " 3   gender                  21287 non-null  float64\n",
            " 4   relevent_experience     21287 non-null  float64\n",
            " 5   enrolled_university     21287 non-null  float64\n",
            " 6   education_level         21287 non-null  float64\n",
            " 7   major_discipline        21287 non-null  float64\n",
            " 8   experience              21287 non-null  float64\n",
            " 9   company_size            21287 non-null  float64\n",
            " 10  company_type            21287 non-null  float64\n",
            " 11  last_new_job            21287 non-null  float64\n",
            " 12  training_hours          21287 non-null  float64\n",
            " 13  target                  21287 non-null  float64\n",
            "dtypes: float64(14)\n",
            "memory usage: 2.3 MB\n"
          ]
        }
      ]
    },
    {
      "cell_type": "markdown",
      "source": [
        "**Plotting kernel density estimate plot just to know distribution of city_development_index feature before and after imputation.**"
      ],
      "metadata": {
        "id": "hWrR4eN1-FF3"
      }
    },
    {
      "cell_type": "markdown",
      "source": [
        "*city_development_index values were in continues form before imputation but after imputation now they are in discrete form beacuse rounding values after imputation cause of this city_development_index values converted into discrete form*"
      ],
      "metadata": {
        "id": "DVNnS_W0AUhc"
      }
    },
    {
      "cell_type": "code",
      "source": [
        "import matplotlib.pyplot as plot\n",
        "plot.figure(figsize = (15,8))\n",
        "plot.title('Before Imputation using KNN')\n",
        "df_combine['city_development_index'].plot(kind = 'kde')\n",
        "plot.show()"
      ],
      "metadata": {
        "id": "xZSwOFLLbRWF",
        "colab": {
          "base_uri": "https://localhost:8080/",
          "height": 484
        },
        "outputId": "b8a7491f-a205-415f-fc4e-13ca36eb91d8"
      },
      "execution_count": 18,
      "outputs": [
        {
          "output_type": "display_data",
          "data": {
            "text/plain": [
              "<Figure size 1080x576 with 1 Axes>"
            ],
            "image/png": "[encoded data removed]"
          },
          "metadata": {
            "needs_background": "light"
          }
        }
      ]
    },
    {
      "cell_type": "code",
      "source": [
        "plot.figure(figsize = (15,8))\n",
        "plot.title('After Imputation using KNN')\n",
        "df_combine1['city_development_index'].plot(kind = 'kde')\n",
        "plot.show()"
      ],
      "metadata": {
        "id": "xDkOFUAjbUxR",
        "colab": {
          "base_uri": "https://localhost:8080/",
          "height": 484
        },
        "outputId": "e160a377-fb9f-445f-9474-85eb6e3639a3"
      },
      "execution_count": 19,
      "outputs": [
        {
          "output_type": "display_data",
          "data": {
            "text/plain": [
              "<Figure size 1080x576 with 1 Axes>"
            ],
            "image/png": "[encoded data removed]"
          },
          "metadata": {
            "needs_background": "light"
          }
        }
      ]
    },
    {
      "cell_type": "code",
      "source": [
        "# missing columns\n",
        "missing_columns = df_combine.columns[df_combine.isna().any()].tolist()\n",
        "missing_columns"
      ],
      "metadata": {
        "id": "jPzERPDobXpn",
        "colab": {
          "base_uri": "https://localhost:8080/"
        },
        "outputId": "cbcbf8b2-c714-412a-ae5d-40a72ed868e6"
      },
      "execution_count": 20,
      "outputs": [
        {
          "output_type": "execute_result",
          "data": {
            "text/plain": [
              "['gender',\n",
              " 'enrolled_university',\n",
              " 'education_level',\n",
              " 'major_discipline',\n",
              " 'experience',\n",
              " 'company_size',\n",
              " 'company_type',\n",
              " 'last_new_job']"
            ]
          },
          "metadata": {},
          "execution_count": 20
        }
      ]
    },
    {
      "cell_type": "code",
      "source": [
        "#dataset having features with missing values\n",
        "data_missing = df_combine[['enrollee_id'] + missing_columns]\n",
        "\n",
        "#dataset having features without missing values\n",
        "data_non_missing = df_combine.drop(missing_columns, axis = 1)"
      ],
      "metadata": {
        "id": "V0JvDy67bali"
      },
      "execution_count": 21,
      "outputs": []
    },
    {
      "cell_type": "code",
      "source": [
        "#k-Nearest Neighbour Imputation\n",
        "\n",
        "knn_imputer = KNNImputer(n_neighbors = 3)\n",
        "\n",
        "X = np.round(knn_imputer.fit_transform(data_missing))\n",
        "#Rounding them because these are categorical features\n",
        "\n",
        "data_missing = pd.DataFrame(X, columns = data_missing.columns)"
      ],
      "metadata": {
        "id": "HwDwO3WFbdFy"
      },
      "execution_count": 22,
      "outputs": []
    },
    {
      "cell_type": "code",
      "source": [
        "#now joining both test and train dataset\n",
        "\n",
        "df_combine2 = pd.merge(data_missing, data_non_missing, on = 'enrollee_id')"
      ],
      "metadata": {
        "id": "Ep29fI9Cbf_f"
      },
      "execution_count": 23,
      "outputs": []
    },
    {
      "cell_type": "code",
      "source": [
        "train_data = df_combine2[df_combine2['target'] != -1].reset_index(drop = True)\n",
        "test_data = df_combine2[df_combine2['target'] == -1].reset_index(drop = True)\n",
        "\n",
        "X = train_data.drop(['enrollee_id', 'target'], axis = 1)\n",
        "Y = train_data['target']\n",
        "\n",
        "# drop fake target feature from test data\n",
        "test_data = test_data.drop('target', axis = 1)     # axis=1 removes column wise "
      ],
      "metadata": {
        "id": "xUvF13iIbirP"
      },
      "execution_count": 24,
      "outputs": []
    },
    {
      "cell_type": "markdown",
      "source": [
        "Metrices"
      ],
      "metadata": {
        "id": "Gj6QxfqVbmHp"
      }
    },
    {
      "cell_type": "code",
      "source": [
        "import seaborn as sns\n",
        "sns.countplot(train_data['target'])"
      ],
      "metadata": {
        "id": "k0vrYAybbnES",
        "colab": {
          "base_uri": "https://localhost:8080/",
          "height": 351
        },
        "outputId": "75738cc5-2207-4619-8384-f5395adc117d"
      },
      "execution_count": 25,
      "outputs": [
        {
          "output_type": "stream",
          "name": "stderr",
          "text": [
            "/usr/local/lib/python3.7/dist-packages/seaborn/_decorators.py:43: FutureWarning: Pass the following variable as a keyword arg: x. From version 0.12, the only valid positional argument will be `data`, and passing other arguments without an explicit keyword will result in an error or misinterpretation.\n",
            "  FutureWarning\n"
          ]
        },
        {
          "output_type": "execute_result",
          "data": {
            "text/plain": [
              "<matplotlib.axes._subplots.AxesSubplot at 0x7f72d0350290>"
            ]
          },
          "metadata": {},
          "execution_count": 25
        },
        {
          "output_type": "display_data",
          "data": {
            "text/plain": [
              "<Figure size 432x288 with 1 Axes>"
            ],
            "image/png": "[encoded data removed]"
          },
          "metadata": {
            "needs_background": "light"
          }
        }
      ]
    },
    {
      "cell_type": "markdown",
      "source": [
        "Here the target is skewed, therefore best metric for this binary classification problem would be Area Under the ROC Curve (AUC)"
      ],
      "metadata": {
        "id": "FlHdHxs6efpZ"
      }
    },
    {
      "cell_type": "markdown",
      "source": [
        "**Model Building**"
      ],
      "metadata": {
        "id": "pLS1yif1RIID"
      }
    },
    {
      "cell_type": "code",
      "source": [
        "# import libraries for model building\n",
        "from sklearn.metrics import roc_auc_score, roc_curve, accuracy_score, confusion_matrix, log_loss, plot_roc_curve, auc, precision_recall_curve\n",
        "from sklearn.model_selection import train_test_split\n",
        "from xgboost import XGBClassifier"
      ],
      "metadata": {
        "id": "jC3mwYLnUu_z"
      },
      "execution_count": 26,
      "outputs": []
    },
    {
      "cell_type": "markdown",
      "source": [
        "**Extreme Gradient Boosting (XGBoost) **"
      ],
      "metadata": {
        "id": "K5rP1tl_LWbh"
      }
    },
    {
      "cell_type": "code",
      "source": [
        "from sklearn.model_selection import train_test_split\n",
        "\n",
        "X_train, X_val, y_train, y_val = train_test_split(X, Y, test_size = 0.2 ,random_state = 42)\n",
        "\n",
        "classifier = XGBClassifier()\n",
        "\n",
        "classifier.fit(X_train, y_train)\n",
        "\n",
        "y_train_prediction = classifier.predict_proba(X_train)\n",
        "y_train_prediction_position = y_train_prediction[:,1]\n",
        "\n",
        "y_value_prediction = classifier.predict_proba(X_val)\n",
        "y_val_prediction_position = y_value_prediction[:,1]\n",
        "\n",
        "auc_train = roc_auc_score(y_train, y_train_prediction_position)\n",
        "auc_test = roc_auc_score(y_val, y_val_prediction_position)\n",
        "\n",
        "print(f\"Train AUC Score {auc_train}\")\n",
        "print(f\"Test AUC Score {auc_test}\")\n",
        "\n",
        "fpr, tpr, _ = roc_curve(y_val, y_val_prediction_position)"
      ],
      "metadata": {
        "colab": {
          "base_uri": "https://localhost:8080/"
        },
        "id": "k4c1vejYLT1D",
        "outputId": "9469163f-87c9-45e7-8ad0-68d36aee6168"
      },
      "execution_count": 156,
      "outputs": [
        {
          "output_type": "stream",
          "name": "stdout",
          "text": [
            "Train AUC Score 0.7927488089981377\n",
            "Test AUC Score 0.7725902340102707\n"
          ]
        }
      ]
    },
    {
      "cell_type": "markdown",
      "source": [
        "*model is overfitting the data, we can do various things to resolve this problem like we can increase data set size in balanced manner*"
      ],
      "metadata": {
        "id": "Q6XfJwlWMFNT"
      }
    },
    {
      "cell_type": "code",
      "source": [
        "def plot_auc_curve(fpr, tpr, auc):\n",
        "    plot.figure(figsize = (16,6))\n",
        "    plot.plot(fpr,tpr,'b+',linestyle = '-')\n",
        "    plot.fill_between(fpr, tpr, alpha = 0.5)\n",
        "    plot.ylabel('True Postive Rate')\n",
        "    plot.xlabel('False Postive Rate')\n",
        "    plot.title(f'ROC Curve Having AUC = {auc}')\n",
        "\n",
        "plot_auc_curve(fpr, tpr, auc_test)"
      ],
      "metadata": {
        "colab": {
          "base_uri": "https://localhost:8080/",
          "height": 368
        },
        "id": "JR9oBuThMExV",
        "outputId": "952d791d-1cea-4edd-cbce-90a96d951208"
      },
      "execution_count": 157,
      "outputs": [
        {
          "output_type": "display_data",
          "data": {
            "text/plain": [
              "<Figure size 1152x432 with 1 Axes>"
            ],
            "image/png": "[encoded data removed]"
          },
          "metadata": {
            "needs_background": "light"
          }
        }
      ]
    },
    {
      "cell_type": "markdown",
      "source": [
        "**Learning Curve**"
      ],
      "metadata": {
        "id": "9m1LfIjrNyKd"
      }
    },
    {
      "cell_type": "code",
      "source": [
        "# funtion to plot learning curves\n",
        "\n",
        "def plot_learning_cuve(model, X, Y):\n",
        "    \n",
        "    x_train, x_test, y_train, y_test = train_test_split(X, Y, test_size = 0.2, random_state = 11)\n",
        "    train_loss, test_loss = [], []\n",
        "    \n",
        "    for m in range(200,len(x_train),200):\n",
        "        \n",
        "        model.fit(x_train.iloc[:m,:], y_train[:m])\n",
        "        y_train_prob_pred = model.predict_proba(x_train.iloc[:m,:])\n",
        "        train_loss.append(log_loss(y_train[:m], y_train_prob_pred))\n",
        "\n",
        "        y_test_prob_pred = model.predict_proba(x_test)\n",
        "        test_loss.append(log_loss(y_test, y_test_prob_pred))\n",
        "        \n",
        "    plot.figure(figsize = (15,8))\n",
        "    plot.plot(train_loss, 'r-+', label = 'Training Loss')\n",
        "    plot.plot(test_loss, 'b-', label = 'Test Loss')\n",
        "    plot.xlabel('Number Of Batches')\n",
        "    plot.ylabel('Log-Loss')\n",
        "    plot.legend(loc = 'best')\n",
        "\n",
        "    plot.show()\n",
        "\n",
        "plot_learning_cuve(XGBClassifier(), X, Y)"
      ],
      "metadata": {
        "colab": {
          "base_uri": "https://localhost:8080/",
          "height": 477
        },
        "id": "8XGtf7t1Nx0W",
        "outputId": "ba0abdd7-2608-4c75-d7ac-237e3ad7ae6d"
      },
      "execution_count": 27,
      "outputs": [
        {
          "output_type": "display_data",
          "data": {
            "text/plain": [
              "<Figure size 1080x576 with 1 Axes>"
            ],
            "image/png": "[encoded data removed]"
          },
          "metadata": {
            "needs_background": "light"
          }
        }
      ]
    },
    {
      "cell_type": "markdown",
      "source": [
        "this shows us model is overfitting, hence we have to increase data, its high variance problem"
      ],
      "metadata": {
        "id": "LvoiaP2fUcUo"
      }
    },
    {
      "cell_type": "markdown",
      "source": [
        "Oversampling using SMOTE"
      ],
      "metadata": {
        "id": "yqDKAMkQUJ5b"
      }
    },
    {
      "cell_type": "code",
      "source": [
        "from imblearn.over_sampling import SMOTE"
      ],
      "metadata": {
        "id": "nY1-1o5GRHf9"
      },
      "execution_count": 28,
      "outputs": []
    },
    {
      "cell_type": "code",
      "source": [
        "smote = SMOTE(random_state = 402)\n",
        "X_smote, Y_smote = smote.fit_resample(X,Y)\n",
        "\n",
        "sns.countplot(Y_smote, edgecolor = 'black')"
      ],
      "metadata": {
        "colab": {
          "base_uri": "https://localhost:8080/",
          "height": 351
        },
        "id": "no3BVOgaUQ7B",
        "outputId": "971ee47f-adcf-4da0-d90d-9053c39eafc7"
      },
      "execution_count": 29,
      "outputs": [
        {
          "output_type": "stream",
          "name": "stderr",
          "text": [
            "/usr/local/lib/python3.7/dist-packages/seaborn/_decorators.py:43: FutureWarning: Pass the following variable as a keyword arg: x. From version 0.12, the only valid positional argument will be `data`, and passing other arguments without an explicit keyword will result in an error or misinterpretation.\n",
            "  FutureWarning\n"
          ]
        },
        {
          "output_type": "execute_result",
          "data": {
            "text/plain": [
              "<matplotlib.axes._subplots.AxesSubplot at 0x7f72d01d6450>"
            ]
          },
          "metadata": {},
          "execution_count": 29
        },
        {
          "output_type": "display_data",
          "data": {
            "text/plain": [
              "<Figure size 432x288 with 1 Axes>"
            ],
            "image/png": "[encoded data removed]"
          },
          "metadata": {
            "needs_background": "light"
          }
        }
      ]
    },
    {
      "cell_type": "code",
      "source": [
        "print(X_smote.shape)"
      ],
      "metadata": {
        "colab": {
          "base_uri": "https://localhost:8080/"
        },
        "id": "sc_VAVsfUTdY",
        "outputId": "4a712697-f0b2-4697-e651-41ae791de25f"
      },
      "execution_count": 30,
      "outputs": [
        {
          "output_type": "stream",
          "name": "stdout",
          "text": [
            "(28762, 12)\n"
          ]
        }
      ]
    },
    {
      "cell_type": "code",
      "source": [
        "X_train, X_val, y_train, y_val = train_test_split(X_smote, Y_smote, test_size = 0.2 ,random_state = 42)\n",
        "\n",
        "classifier = XGBClassifier()\n",
        "\n",
        "classifier.fit(X_train, y_train)\n",
        "\n",
        "y_train_pred = classifier.predict_proba(X_train)\n",
        "y_train_pred_pos = y_train_pred[:,1]\n",
        "\n",
        "y_val_pred = classifier.predict_proba(X_val)\n",
        "y_val_pred_pos = y_val_pred[:,1]\n",
        "\n",
        "auc_train = roc_auc_score(y_train, y_train_pred_pos)\n",
        "auc_test = roc_auc_score(y_val, y_val_pred_pos)\n",
        "\n",
        "print(f\"Train AUC Score {auc_train}\")\n",
        "print(f\"Test AUC Score {auc_test}\")"
      ],
      "metadata": {
        "colab": {
          "base_uri": "https://localhost:8080/"
        },
        "id": "EPIXV5mZUTcU",
        "outputId": "4721035e-16c0-4487-8101-5636dbefafdc"
      },
      "execution_count": 31,
      "outputs": [
        {
          "output_type": "stream",
          "name": "stdout",
          "text": [
            "Train AUC Score 0.9172130178328465\n",
            "Test AUC Score 0.9129631899052626\n"
          ]
        }
      ]
    },
    {
      "cell_type": "code",
      "source": [
        "plot_learning_cuve(XGBClassifier(), X_smote, Y_smote)"
      ],
      "metadata": {
        "colab": {
          "base_uri": "https://localhost:8080/",
          "height": 477
        },
        "id": "RPHVC5Zh6aCC",
        "outputId": "5c39601c-dee2-4561-fee8-19d3e41e2fe9"
      },
      "execution_count": 32,
      "outputs": [
        {
          "output_type": "display_data",
          "data": {
            "text/plain": [
              "<Figure size 1080x576 with 1 Axes>"
            ],
            "image/png": "[encoded data removed]"
          },
          "metadata": {
            "needs_background": "light"
          }
        }
      ]
    }
  ]
}